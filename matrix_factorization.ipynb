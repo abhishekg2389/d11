{
 "cells": [
  {
   "cell_type": "code",
   "execution_count": 2,
   "metadata": {
    "collapsed": true
   },
   "outputs": [],
   "source": [
    "from IPython.core.interactiveshell import InteractiveShell\n",
    "InteractiveShell.ast_node_interactivity = \"all\""
   ]
  },
  {
   "cell_type": "code",
   "execution_count": 3,
   "metadata": {
    "collapsed": true
   },
   "outputs": [],
   "source": [
    "import pandas as pd\n",
    "import time\n",
    "import pickle as pkl\n",
    "import glob\n",
    "import numpy as np\n",
    "from datetime import datetime\n",
    "\n",
    "pd.set_option('display.max_rows', 500)\n",
    "pd.set_option('display.max_columns', 500)\n",
    "\n",
    "%run utils.ipynb"
   ]
  },
  {
   "cell_type": "code",
   "execution_count": 120,
   "metadata": {
    "collapsed": true
   },
   "outputs": [],
   "source": [
    "from IPython.core.debugger import set_trace"
   ]
  },
  {
   "cell_type": "code",
   "execution_count": 4,
   "metadata": {},
   "outputs": [
    {
     "data": {
      "text/plain": [
       "(15157, 3)"
      ]
     },
     "execution_count": 4,
     "metadata": {},
     "output_type": "execute_result"
    },
    {
     "data": {
      "text/plain": [
       "(14926, 3)"
      ]
     },
     "execution_count": 4,
     "metadata": {},
     "output_type": "execute_result"
    },
    {
     "data": {
      "text/html": [
       "<div>\n",
       "<style scoped>\n",
       "    .dataframe tbody tr th:only-of-type {\n",
       "        vertical-align: middle;\n",
       "    }\n",
       "\n",
       "    .dataframe tbody tr th {\n",
       "        vertical-align: top;\n",
       "    }\n",
       "\n",
       "    .dataframe thead th {\n",
       "        text-align: right;\n",
       "    }\n",
       "</style>\n",
       "<table border=\"1\" class=\"dataframe\">\n",
       "  <thead>\n",
       "    <tr style=\"text-align: right;\">\n",
       "      <th></th>\n",
       "      <th>match_id</th>\n",
       "      <th>player</th>\n",
       "      <th>tot_score</th>\n",
       "    </tr>\n",
       "  </thead>\n",
       "  <tbody>\n",
       "    <tr>\n",
       "      <th>0</th>\n",
       "      <td>829729</td>\n",
       "      <td>DR Smith</td>\n",
       "      <td>98.0</td>\n",
       "    </tr>\n",
       "    <tr>\n",
       "      <th>1</th>\n",
       "      <td>829729</td>\n",
       "      <td>BB McCullum</td>\n",
       "      <td>60.0</td>\n",
       "    </tr>\n",
       "    <tr>\n",
       "      <th>2</th>\n",
       "      <td>829729</td>\n",
       "      <td>SK Raina</td>\n",
       "      <td>55.0</td>\n",
       "    </tr>\n",
       "    <tr>\n",
       "      <th>3</th>\n",
       "      <td>829729</td>\n",
       "      <td>F du Plessis</td>\n",
       "      <td>33.0</td>\n",
       "    </tr>\n",
       "    <tr>\n",
       "      <th>4</th>\n",
       "      <td>829729</td>\n",
       "      <td>MS Dhoni</td>\n",
       "      <td>7.0</td>\n",
       "    </tr>\n",
       "  </tbody>\n",
       "</table>\n",
       "</div>"
      ],
      "text/plain": [
       "   match_id        player  tot_score\n",
       "0    829729      DR Smith       98.0\n",
       "1    829729   BB McCullum       60.0\n",
       "2    829729      SK Raina       55.0\n",
       "3    829729  F du Plessis       33.0\n",
       "4    829729      MS Dhoni        7.0"
      ]
     },
     "execution_count": 4,
     "metadata": {},
     "output_type": "execute_result"
    }
   ],
   "source": [
    "d11_scores = pd.read_csv(\"player_d11scores.csv\")\n",
    "d11_scores.shape\n",
    "d11_scores = d11_scores[~pd.isnull(d11_scores.tot_score)]\n",
    "d11_scores.shape\n",
    "d11_scores.head()"
   ]
  },
  {
   "cell_type": "code",
   "execution_count": 7,
   "metadata": {},
   "outputs": [
    {
     "data": {
      "text/plain": [
       "284"
      ]
     },
     "execution_count": 7,
     "metadata": {},
     "output_type": "execute_result"
    },
    {
     "data": {
      "text/plain": [
       "753"
      ]
     },
     "execution_count": 7,
     "metadata": {},
     "output_type": "execute_result"
    }
   ],
   "source": [
    "player_idx = {x: i for i, x in enumerate(np.unique(d11_scores.player))}\n",
    "len(player_idx)\n",
    "\n",
    "matchid_idx = {x: i for i, x in enumerate(np.unique(d11_scores.match_id))}\n",
    "len(matchid_idx)"
   ]
  },
  {
   "cell_type": "code",
   "execution_count": 9,
   "metadata": {
    "collapsed": true
   },
   "outputs": [],
   "source": [
    "data = np.zeros((len(matchid_idx), len(player_idx)))\n",
    "\n",
    "for _, row in d11_scores.iterrows():\n",
    "    data[matchid_idx[row[\"match_id\"]], player_idx[row[\"player\"]]] = row[\"tot_score\"]"
   ]
  },
  {
   "cell_type": "code",
   "execution_count": 125,
   "metadata": {
    "collapsed": true
   },
   "outputs": [],
   "source": [
    "class PairwiseMF():\n",
    "    def __init__(self, num_points, num_latent, alpha=0.001, beta=0):\n",
    "        self.latent_feats = np.random.normal(scale=1./num_latent, size=(num_points, num_latent))\n",
    "        self.alpha = alpha\n",
    "        self.beta = beta\n",
    "    \n",
    "    def fit(self, X, valX=None, num_iter=10, random_seed=0):\n",
    "        np.random.seed(random_seed)\n",
    "        for itr in range(num_iter):\n",
    "            print(\"---------- \"+str(itr)+\" ----------\")\n",
    "            np.random.shuffle(X)\n",
    "            \n",
    "            for x in X:\n",
    "                xids = np.where(x>0)[0]\n",
    "                lf = self.latent_feats[xids, :]\n",
    "                \n",
    "                updt = np.zeros_like(lf)\n",
    "                for i in range(len(xids)):\n",
    "                    for j in range(len(xids)):\n",
    "                        if i!=j:\n",
    "                            e = x[xids[i]] - (lf[i]*lf[j]).sum()\n",
    "                            updt[i] += self.alpha * (e * lf[j] - self.beta * lf[i])\n",
    "                updt /= len(xids) - 1\n",
    "                if not np.isfinite(updt.sum()):\n",
    "                    print(updt)\n",
    "                    print(lf)\n",
    "                    print(x[xids])\n",
    "                    set_trace()\n",
    "                    raise ValueError\n",
    "                self.latent_feats[xids, :] += updt\n",
    "            \n",
    "            print(\"TR MSE: {:.4f}\".format(self.score(X)))\n",
    "            if valX is not None:\n",
    "                print(\"CV MSE: {:.4f}\".format(self.score(valX)))\n",
    "    \n",
    "    def score(self, X):\n",
    "        sample_es = []\n",
    "        for x in X:\n",
    "            xids = np.where(x>0)[0]\n",
    "            lf = self.latent_feats[xids, :]\n",
    "            \n",
    "            sample_e = []\n",
    "            for i in range(len(xids)):\n",
    "                for j in range(len(xids)):\n",
    "                    if i!=j:\n",
    "                        sample_e.append((x[xids[i]] - (lf[i]*lf[j]).sum()))\n",
    "            sample_es.append(np.mean(sample_e))\n",
    "        return np.mean(sample_es)"
   ]
  },
  {
   "cell_type": "code",
   "execution_count": 126,
   "metadata": {
    "collapsed": true
   },
   "outputs": [],
   "source": [
    "pmf = PairwiseMF(len(player_idx), 5, alpha=0.05)"
   ]
  },
  {
   "cell_type": "code",
   "execution_count": 127,
   "metadata": {
    "collapsed": true
   },
   "outputs": [],
   "source": [
    "np.random.seed(0)\n",
    "np.random.shuffle(data)"
   ]
  },
  {
   "cell_type": "code",
   "execution_count": 128,
   "metadata": {
    "scrolled": false
   },
   "outputs": [
    {
     "name": "stdout",
     "output_type": "stream",
     "text": [
      "---------- 0 ----------\n"
     ]
    },
    {
     "name": "stderr",
     "output_type": "stream",
     "text": [
      "/Library/Frameworks/Python.framework/Versions/2.7/lib/python2.7/site-packages/ipykernel_launcher.py:22: RuntimeWarning: overflow encountered in multiply\n",
      "/Library/Frameworks/Python.framework/Versions/2.7/lib/python2.7/site-packages/ipykernel_launcher.py:21: RuntimeWarning: overflow encountered in multiply\n"
     ]
    },
    {
     "name": "stdout",
     "output_type": "stream",
     "text": [
      "[[-inf  inf  inf  inf -inf]\n",
      " [-inf  inf  inf  inf -inf]\n",
      " [ inf -inf -inf -inf  inf]\n",
      " [-inf  inf  inf  inf -inf]\n",
      " [ inf -inf -inf -inf  inf]\n",
      " [ inf -inf -inf -inf  inf]\n",
      " [-inf  inf  inf  inf -inf]\n",
      " [-inf  inf  inf  inf -inf]\n",
      " [ inf -inf -inf -inf  inf]\n",
      " [ inf -inf -inf -inf  inf]\n",
      " [ inf -inf -inf -inf  inf]\n",
      " [-inf  inf  inf  inf -inf]\n",
      " [ inf -inf -inf -inf  inf]\n",
      " [-inf  inf  inf  inf -inf]\n",
      " [ inf -inf -inf -inf  inf]\n",
      " [ inf -inf -inf -inf  inf]\n",
      " [ inf -inf -inf -inf  inf]\n",
      " [-inf  inf  inf  inf -inf]\n",
      " [-inf  inf  inf  inf -inf]\n",
      " [ inf -inf -inf -inf  inf]\n",
      " [ inf -inf -inf -inf  inf]]\n",
      "[[ 2.77684406e+045 -5.16925610e+044 -2.55402183e+045 -1.19221136e+045\n",
      "   1.87898641e+045]\n",
      " [ 1.59034952e+005 -2.25427593e+004 -1.30175202e+005 -7.06145779e+004\n",
      "   1.02670862e+005]\n",
      " [-8.49741054e+013  1.58184220e+013  7.81555301e+013  3.64828169e+013\n",
      "  -5.74987956e+013]\n",
      " [ 2.04809076e+072 -3.81263960e+071 -1.88374585e+072 -8.79328115e+071\n",
      "   1.38586633e+072]\n",
      " [-4.15712264e+000  5.25374692e-001  5.28882928e+000  1.90380149e+000\n",
      "  -3.39979938e+000]\n",
      " [-3.87540731e-002  2.90122795e-001 -7.21650355e-002  1.76989715e-001\n",
      "   1.79570617e-002]\n",
      " [ 8.07844174e+071 -1.50384873e+071 -7.43020352e+071 -3.46840145e+071\n",
      "   5.46637906e+071]\n",
      " [ 1.52557445e+222 -2.83994522e+221 -1.40315781e+222 -6.54990753e+221\n",
      "   1.03229911e+222]\n",
      " [-3.02982685e-001  3.47485779e-002  1.43951706e-001  1.89892723e-001\n",
      "  -4.23711642e-001]\n",
      " [-5.84098108e+000  2.39007204e+000  5.41266499e+000  1.77602519e+000\n",
      "  -4.20825653e+000]\n",
      " [ 1.93776528e-001  4.51163327e-002  2.77829063e-001  4.02812031e-001\n",
      "  -6.13531552e-002]\n",
      " [ 4.84695643e+072 -9.02289021e+071 -4.45802221e+072 -2.08099424e+072\n",
      "   3.27975394e+072]\n",
      " [ 1.55221902e-002 -1.52826832e-002  7.09251809e-001  4.48927359e-002\n",
      "  -5.31567346e-001]\n",
      " [ 8.63314531e+269 -1.60711002e+269 -7.94039602e+269 -3.70655811e+269\n",
      "   5.84172619e+269]\n",
      " [-4.63158015e+270  8.62195479e+269  4.25992837e+270  1.98852450e+270\n",
      "  -3.13401688e+270]\n",
      " [-1.29231636e+005  1.83181739e+004  1.05777691e+005  5.73825953e+004\n",
      "  -8.34298265e+004]\n",
      " [-8.83853323e+012  1.64232460e+012  8.13936372e+012  3.80087801e+012\n",
      "  -5.98266590e+012]\n",
      " [ 1.36528810e+000 -9.62453892e-001 -1.02691916e+000 -1.44478212e-001\n",
      "   8.94876549e-001]\n",
      " [ 1.61287119e+003 -2.28580109e+002 -1.32118853e+003 -7.15028860e+002\n",
      "   1.04135878e+003]\n",
      " [-2.56644756e+000  5.51408732e-001  2.28449777e+000  3.66840638e-001\n",
      "  -1.67424406e+000]\n",
      " [-3.54045800e+068  6.59076768e+067  3.25636110e+068  1.52006167e+068\n",
      "  -2.39569537e+068]]\n",
      "[ 31. 131.  57.  46.  81.  28.  49.  70.  13.  50.   5.  27.  50.  58.\n",
      "  16.  46.   5.   7.  34.  28.   5.]\n",
      "> \u001b[0;32m<ipython-input-125-3742e54f377a>\u001b[0m(29)\u001b[0;36mfit\u001b[0;34m()\u001b[0m\n",
      "\u001b[0;32m     27 \u001b[0;31m                    \u001b[0;32mprint\u001b[0m\u001b[0;34m(\u001b[0m\u001b[0mx\u001b[0m\u001b[0;34m[\u001b[0m\u001b[0mxids\u001b[0m\u001b[0;34m]\u001b[0m\u001b[0;34m)\u001b[0m\u001b[0;34m\u001b[0m\u001b[0m\n",
      "\u001b[0m\u001b[0;32m     28 \u001b[0;31m                    \u001b[0mset_trace\u001b[0m\u001b[0;34m(\u001b[0m\u001b[0;34m)\u001b[0m\u001b[0;34m\u001b[0m\u001b[0m\n",
      "\u001b[0m\u001b[0;32m---> 29 \u001b[0;31m                    \u001b[0;32mraise\u001b[0m \u001b[0mValueError\u001b[0m\u001b[0;34m\u001b[0m\u001b[0m\n",
      "\u001b[0m\u001b[0;32m     30 \u001b[0;31m                \u001b[0mself\u001b[0m\u001b[0;34m.\u001b[0m\u001b[0mlatent_feats\u001b[0m\u001b[0;34m[\u001b[0m\u001b[0mxids\u001b[0m\u001b[0;34m,\u001b[0m \u001b[0;34m:\u001b[0m\u001b[0;34m]\u001b[0m \u001b[0;34m+=\u001b[0m \u001b[0mupdt\u001b[0m\u001b[0;34m\u001b[0m\u001b[0m\n",
      "\u001b[0m\u001b[0;32m     31 \u001b[0;31m\u001b[0;34m\u001b[0m\u001b[0m\n",
      "\u001b[0m\n",
      "\n",
      "KeyboardInterrupt\n",
      "ValueError: ValueError()\n",
      "> \u001b[0;32m<ipython-input-125-3742e54f377a>\u001b[0m(29)\u001b[0;36mfit\u001b[0;34m()\u001b[0m\n",
      "\u001b[0;32m     27 \u001b[0;31m                    \u001b[0;32mprint\u001b[0m\u001b[0;34m(\u001b[0m\u001b[0mx\u001b[0m\u001b[0;34m[\u001b[0m\u001b[0mxids\u001b[0m\u001b[0;34m]\u001b[0m\u001b[0;34m)\u001b[0m\u001b[0;34m\u001b[0m\u001b[0m\n",
      "\u001b[0m\u001b[0;32m     28 \u001b[0;31m                    \u001b[0mset_trace\u001b[0m\u001b[0;34m(\u001b[0m\u001b[0;34m)\u001b[0m\u001b[0;34m\u001b[0m\u001b[0m\n",
      "\u001b[0m\u001b[0;32m---> 29 \u001b[0;31m                    \u001b[0;32mraise\u001b[0m \u001b[0mValueError\u001b[0m\u001b[0;34m\u001b[0m\u001b[0m\n",
      "\u001b[0m\u001b[0;32m     30 \u001b[0;31m                \u001b[0mself\u001b[0m\u001b[0;34m.\u001b[0m\u001b[0mlatent_feats\u001b[0m\u001b[0;34m[\u001b[0m\u001b[0mxids\u001b[0m\u001b[0;34m,\u001b[0m \u001b[0;34m:\u001b[0m\u001b[0;34m]\u001b[0m \u001b[0;34m+=\u001b[0m \u001b[0mupdt\u001b[0m\u001b[0;34m\u001b[0m\u001b[0m\n",
      "\u001b[0m\u001b[0;32m     31 \u001b[0;31m\u001b[0;34m\u001b[0m\u001b[0m\n",
      "\u001b[0m\n",
      "ipdb> q\n"
     ]
    },
    {
     "ename": "BdbQuit",
     "evalue": "",
     "output_type": "error",
     "traceback": [
      "\u001b[0;31m---------------------------------------------------------------------------\u001b[0m",
      "\u001b[0;31mBdbQuit\u001b[0m                                   Traceback (most recent call last)",
      "\u001b[0;32m<ipython-input-128-5d2e606b99e2>\u001b[0m in \u001b[0;36m<module>\u001b[0;34m()\u001b[0m\n\u001b[0;32m----> 1\u001b[0;31m \u001b[0mpmf\u001b[0m\u001b[0;34m.\u001b[0m\u001b[0mfit\u001b[0m\u001b[0;34m(\u001b[0m\u001b[0mdata\u001b[0m\u001b[0;34m[\u001b[0m\u001b[0;34m:\u001b[0m\u001b[0;36m400\u001b[0m\u001b[0;34m]\u001b[0m\u001b[0;34m,\u001b[0m \u001b[0mvalX\u001b[0m\u001b[0;34m=\u001b[0m\u001b[0mdata\u001b[0m\u001b[0;34m[\u001b[0m\u001b[0;36m400\u001b[0m\u001b[0;34m:\u001b[0m\u001b[0;34m]\u001b[0m\u001b[0;34m,\u001b[0m \u001b[0mnum_iter\u001b[0m\u001b[0;34m=\u001b[0m\u001b[0;36m100\u001b[0m\u001b[0;34m)\u001b[0m\u001b[0;34m\u001b[0m\u001b[0m\n\u001b[0m",
      "\u001b[0;32m<ipython-input-125-3742e54f377a>\u001b[0m in \u001b[0;36mfit\u001b[0;34m(self, X, valX, num_iter, random_seed)\u001b[0m\n\u001b[1;32m     27\u001b[0m                     \u001b[0;32mprint\u001b[0m\u001b[0;34m(\u001b[0m\u001b[0mx\u001b[0m\u001b[0;34m[\u001b[0m\u001b[0mxids\u001b[0m\u001b[0;34m]\u001b[0m\u001b[0;34m)\u001b[0m\u001b[0;34m\u001b[0m\u001b[0m\n\u001b[1;32m     28\u001b[0m                     \u001b[0mset_trace\u001b[0m\u001b[0;34m(\u001b[0m\u001b[0;34m)\u001b[0m\u001b[0;34m\u001b[0m\u001b[0m\n\u001b[0;32m---> 29\u001b[0;31m                     \u001b[0;32mraise\u001b[0m \u001b[0mValueError\u001b[0m\u001b[0;34m\u001b[0m\u001b[0m\n\u001b[0m\u001b[1;32m     30\u001b[0m                 \u001b[0mself\u001b[0m\u001b[0;34m.\u001b[0m\u001b[0mlatent_feats\u001b[0m\u001b[0;34m[\u001b[0m\u001b[0mxids\u001b[0m\u001b[0;34m,\u001b[0m \u001b[0;34m:\u001b[0m\u001b[0;34m]\u001b[0m \u001b[0;34m+=\u001b[0m \u001b[0mupdt\u001b[0m\u001b[0;34m\u001b[0m\u001b[0m\n\u001b[1;32m     31\u001b[0m \u001b[0;34m\u001b[0m\u001b[0m\n",
      "\u001b[0;32m/Library/Frameworks/Python.framework/Versions/2.7/lib/python2.7/bdb.pyc\u001b[0m in \u001b[0;36mtrace_dispatch\u001b[0;34m(self, frame, event, arg)\u001b[0m\n\u001b[1;32m     53\u001b[0m             \u001b[0;32mreturn\u001b[0m \u001b[0mself\u001b[0m\u001b[0;34m.\u001b[0m\u001b[0mdispatch_return\u001b[0m\u001b[0;34m(\u001b[0m\u001b[0mframe\u001b[0m\u001b[0;34m,\u001b[0m \u001b[0marg\u001b[0m\u001b[0;34m)\u001b[0m\u001b[0;34m\u001b[0m\u001b[0m\n\u001b[1;32m     54\u001b[0m         \u001b[0;32mif\u001b[0m \u001b[0mevent\u001b[0m \u001b[0;34m==\u001b[0m \u001b[0;34m'exception'\u001b[0m\u001b[0;34m:\u001b[0m\u001b[0;34m\u001b[0m\u001b[0m\n\u001b[0;32m---> 55\u001b[0;31m             \u001b[0;32mreturn\u001b[0m \u001b[0mself\u001b[0m\u001b[0;34m.\u001b[0m\u001b[0mdispatch_exception\u001b[0m\u001b[0;34m(\u001b[0m\u001b[0mframe\u001b[0m\u001b[0;34m,\u001b[0m \u001b[0marg\u001b[0m\u001b[0;34m)\u001b[0m\u001b[0;34m\u001b[0m\u001b[0m\n\u001b[0m\u001b[1;32m     56\u001b[0m         \u001b[0;32mif\u001b[0m \u001b[0mevent\u001b[0m \u001b[0;34m==\u001b[0m \u001b[0;34m'c_call'\u001b[0m\u001b[0;34m:\u001b[0m\u001b[0;34m\u001b[0m\u001b[0m\n\u001b[1;32m     57\u001b[0m             \u001b[0;32mreturn\u001b[0m \u001b[0mself\u001b[0m\u001b[0;34m.\u001b[0m\u001b[0mtrace_dispatch\u001b[0m\u001b[0;34m\u001b[0m\u001b[0m\n",
      "\u001b[0;32m/Library/Frameworks/Python.framework/Versions/2.7/lib/python2.7/bdb.pyc\u001b[0m in \u001b[0;36mdispatch_exception\u001b[0;34m(self, frame, arg)\u001b[0m\n\u001b[1;32m     95\u001b[0m         \u001b[0;32mif\u001b[0m \u001b[0mself\u001b[0m\u001b[0;34m.\u001b[0m\u001b[0mstop_here\u001b[0m\u001b[0;34m(\u001b[0m\u001b[0mframe\u001b[0m\u001b[0;34m)\u001b[0m\u001b[0;34m:\u001b[0m\u001b[0;34m\u001b[0m\u001b[0m\n\u001b[1;32m     96\u001b[0m             \u001b[0mself\u001b[0m\u001b[0;34m.\u001b[0m\u001b[0muser_exception\u001b[0m\u001b[0;34m(\u001b[0m\u001b[0mframe\u001b[0m\u001b[0;34m,\u001b[0m \u001b[0marg\u001b[0m\u001b[0;34m)\u001b[0m\u001b[0;34m\u001b[0m\u001b[0m\n\u001b[0;32m---> 97\u001b[0;31m             \u001b[0;32mif\u001b[0m \u001b[0mself\u001b[0m\u001b[0;34m.\u001b[0m\u001b[0mquitting\u001b[0m\u001b[0;34m:\u001b[0m \u001b[0;32mraise\u001b[0m \u001b[0mBdbQuit\u001b[0m\u001b[0;34m\u001b[0m\u001b[0m\n\u001b[0m\u001b[1;32m     98\u001b[0m         \u001b[0;32mreturn\u001b[0m \u001b[0mself\u001b[0m\u001b[0;34m.\u001b[0m\u001b[0mtrace_dispatch\u001b[0m\u001b[0;34m\u001b[0m\u001b[0m\n\u001b[1;32m     99\u001b[0m \u001b[0;34m\u001b[0m\u001b[0m\n",
      "\u001b[0;31mBdbQuit\u001b[0m: "
     ]
    }
   ],
   "source": [
    "pmf.fit(data[:400], valX=data[400:], num_iter=100)"
   ]
  },
  {
   "cell_type": "code",
   "execution_count": null,
   "metadata": {
    "collapsed": true
   },
   "outputs": [],
   "source": [
    "x = [ 33.  17.  18.  39.  27.  37.  39.   4.  18.  43.   2.  38.  29.  33.\n",
    "43.  27. 101.  14.  91.   4.  54.]"
   ]
  },
  {
   "cell_type": "code",
   "execution_count": null,
   "metadata": {
    "collapsed": true
   },
   "outputs": [],
   "source": [
    "updt = np.zeros_like(lf)\n",
    "for i in range(len(xids)):\n",
    "    for j in range(len(xids)):\n",
    "        if i!=j:\n",
    "            e = x[xids[i]] - (lf[i]*lf[j]).sum()\n",
    "            updt[i] += self.alpha * (e * lf[j] - self.beta * lf[i])\n",
    "updt /= len(xids) - 1"
   ]
  }
 ],
 "metadata": {
  "kernelspec": {
   "display_name": "Python 2",
   "language": "python",
   "name": "python2"
  },
  "language_info": {
   "codemirror_mode": {
    "name": "ipython",
    "version": 2
   },
   "file_extension": ".py",
   "mimetype": "text/x-python",
   "name": "python",
   "nbconvert_exporter": "python",
   "pygments_lexer": "ipython2",
   "version": "2.7.13"
  },
  "varInspector": {
   "cols": {
    "lenName": 16,
    "lenType": 16,
    "lenVar": 40
   },
   "kernels_config": {
    "python": {
     "delete_cmd_postfix": "",
     "delete_cmd_prefix": "del ",
     "library": "var_list.py",
     "varRefreshCmd": "print(var_dic_list())"
    },
    "r": {
     "delete_cmd_postfix": ") ",
     "delete_cmd_prefix": "rm(",
     "library": "var_list.r",
     "varRefreshCmd": "cat(var_dic_list()) "
    }
   },
   "types_to_exclude": [
    "module",
    "function",
    "builtin_function_or_method",
    "instance",
    "_Feature"
   ],
   "window_display": false
  }
 },
 "nbformat": 4,
 "nbformat_minor": 2
}
